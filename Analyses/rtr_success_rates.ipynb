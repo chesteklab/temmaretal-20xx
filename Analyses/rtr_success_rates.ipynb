{
 "cells": [
  {
   "cell_type": "markdown",
   "metadata": {},
   "source": [
    "# Response to Reviewers: Success Bias"
   ]
  },
  {
   "cell_type": "code",
   "execution_count": 1,
   "metadata": {},
   "outputs": [],
   "source": [
    "import numpy as np\n",
    "import os\n",
    "import sys\n",
    "sys.path.append('C:\\Repos\\\\temmaretal-20xx')\n",
    "import matplotlib.pyplot as plt\n",
    "import matplotlib as mpl\n",
    "import pandas as pd\n",
    "from scipy import stats\n",
    "import seaborn as sns\n",
    "import pdb\n",
    "import config\n",
    "import utils.online_metrics\n",
    "from utils.ztools import ZStructTranslator\n",
    "from utils import offline_metrics\n",
    "from utils import online_metrics"
   ]
  },
  {
   "cell_type": "code",
   "execution_count": 2,
   "metadata": {},
   "outputs": [],
   "source": [
    "mk_name = 'Joker'\n",
    "dates = ['2020-09-12',\n",
    "            '2020-09-19',\n",
    "            '2021-07-31'] #add another opt day\n",
    "runs = [[3, 10, 11, 12, 13],\n",
    "        [4, 10, 11, 12, 13],\n",
    "        [3, 7, 8, 9, 10]]\n",
    "decoderlabels = [['HC', 'RN', 'RK', 'RN', 'RK'],\n",
    "                    ['HC', 'RK', 'RN', 'RK', 'RN'],\n",
    "                    ['HC', 'RN', 'RK', 'RN', 'RK']]"
   ]
  },
  {
   "cell_type": "code",
   "execution_count": 14,
   "metadata": {},
   "outputs": [
    {
     "name": "stdout",
     "output_type": "stream",
     "text": [
      "Loading previous .npy Z struct . . . \n",
      "Finished loading .npy file\n",
      "Loading previous .npy Z struct . . . \n",
      "Finished loading .npy file\n",
      "Loading previous .npy Z struct . . . \n",
      "Finished loading .npy file\n",
      "Loading previous .npy Z struct . . . \n",
      "Finished loading .npy file\n",
      "Loading previous .npy Z struct . . . \n",
      "Finished loading .npy file\n",
      "Loading previous .npy Z struct . . . \n",
      "Finished loading .npy file\n",
      "Loading previous .npy Z struct . . . \n",
      "Finished loading .npy file\n",
      "Loading previous .npy Z struct . . . \n",
      "Finished loading .npy file\n",
      "Loading previous .npy Z struct . . . \n",
      "Finished loading .npy file\n",
      "Loading previous .npy Z struct . . . \n",
      "Finished loading .npy file\n",
      "Loading previous .npy Z struct . . . \n",
      "Finished loading .npy file\n",
      "Loading previous .npy Z struct . . . \n",
      "Finished loading .npy file\n",
      "Loading previous .npy Z struct . . . \n",
      "Finished loading .npy file\n",
      "Loading previous .npy Z struct . . . \n",
      "Finished loading .npy file\n",
      "Loading previous .npy Z struct . . . \n",
      "Finished loading .npy file\n"
     ]
    }
   ],
   "source": [
    "trimlength = 5\n",
    "success_all = {'HC':[],\n",
    "             'RK':[],\n",
    "             'RN':[]}\n",
    "succ_rates = {'HC':[],\n",
    "             'RK':[],\n",
    "             'RN':[]}\n",
    "trial_all = {'HC':[],\n",
    "             'RK':[],\n",
    "             'RN':[]}\n",
    "\n",
    "for d, date in enumerate(dates):\n",
    "    successes = {'HC':[],\n",
    "                 'RK':[],\n",
    "                 'RN':[]}\n",
    "    trials = {'HC':[],\n",
    "            'RK':[],\n",
    "            'RN':[]}    \n",
    "    for i in np.arange(len(runs[d])):\n",
    "        run = 'Run-{}'.format(str(runs[d][i]).zfill(3))\n",
    "        fpath = os.path.join(config.raw_data_dir, mk_name, date, run)\n",
    "\n",
    "        z = ZStructTranslator(fpath, os.path.join(config.data_dir, 'fits_online'), numChans=96, verbose=True)\n",
    "        z = z.asdataframe()\n",
    "        if decoderlabels[d][i] != 'HC': # if not a hand control run, filter by only decoder on trials.\n",
    "            z = z[z['ClosedLoop'] == True] #make sure decode is on as well\n",
    "        z = z[trimlength:]\n",
    "\n",
    "        successes[decoderlabels[d][i]].append(np.sum(z['TrialSuccess']))\n",
    "        trials[decoderlabels[d][i]].append(len(z['TrialSuccess']))\n",
    "\n",
    "    for key in succ_rates.keys():\n",
    "        success_all[key].append(np.sum(successes[key]))\n",
    "        trial_all[key].append(np.sum(trials[key]))\n",
    "        succ_rates[key].append(np.sum(successes[key])/np.sum(trials[key]))"
   ]
  },
  {
   "cell_type": "code",
   "execution_count": 15,
   "metadata": {},
   "outputs": [
    {
     "data": {
      "text/plain": [
       "{'HC': [0.9974811083123426, 0.9974683544303797, 0.9974874371859297],\n",
       " 'RK': [0.8741418764302059, 0.8878281622911695, 0.9922680412371134],\n",
       " 'RN': [0.9955849889624724, 0.9959266802443992, 0.9948717948717949]}"
      ]
     },
     "execution_count": 15,
     "metadata": {},
     "output_type": "execute_result"
    }
   ],
   "source": [
    "succ_rates"
   ]
  },
  {
   "cell_type": "code",
   "execution_count": 24,
   "metadata": {},
   "outputs": [
    {
     "name": "stdout",
     "output_type": "stream",
     "text": [
      "0.9954611546928889\n",
      "0.9180793599861629\n",
      "{'HC': [397, 395, 398], 'RK': [437, 419, 388], 'RN': [453, 491, 390]}\n",
      "{'HC': [396, 394, 397], 'RK': [382, 372, 385], 'RN': [451, 489, 388]}\n"
     ]
    }
   ],
   "source": [
    "print(np.mean(succ_rates['RN']))\n",
    "print(np.mean(succ_rates['RK']))\n",
    "print(trial_all)\n",
    "print(success_all)\n"
   ]
  },
  {
   "cell_type": "code",
   "execution_count": 19,
   "metadata": {},
   "outputs": [
    {
     "name": "stdout",
     "output_type": "stream",
     "text": [
      "6.927791673660977e-14\n",
      "2.9898306053155466e-13\n",
      "0.3247611462833897\n"
     ]
    }
   ],
   "source": [
    "for i in range(3):\n",
    "    pdiff = succ_rates['RN'][i] - succ_rates['RK'][i]\n",
    "    phat = (success_all['RN'][i] + success_all['RK'][i]) / (trial_all['RN'][i] + trial_all['RK'][i])\n",
    "    sediff = np.sqrt(phat * (1 - phat) * (1 / trial_all['RN'][i] + 1 / trial_all['RK'][i]))\n",
    "\n",
    "    zscore = pdiff / sediff\n",
    "    pval = 1 - stats.norm.cdf(np.abs(zscore))\n",
    "    print(pval)"
   ]
  },
  {
   "cell_type": "code",
   "execution_count": 18,
   "metadata": {},
   "outputs": [
    {
     "data": {
      "text/plain": [
       "[244, 144]"
      ]
     },
     "execution_count": 18,
     "metadata": {},
     "output_type": "execute_result"
    }
   ],
   "source": [
    "successes['RN']"
   ]
  },
  {
   "cell_type": "code",
   "execution_count": null,
   "metadata": {},
   "outputs": [],
   "source": []
  }
 ],
 "metadata": {
  "kernelspec": {
   "display_name": "base",
   "language": "python",
   "name": "python3"
  },
  "language_info": {
   "codemirror_mode": {
    "name": "ipython",
    "version": 3
   },
   "file_extension": ".py",
   "mimetype": "text/x-python",
   "name": "python",
   "nbconvert_exporter": "python",
   "pygments_lexer": "ipython3",
   "version": "3.8.18"
  }
 },
 "nbformat": 4,
 "nbformat_minor": 2
}
